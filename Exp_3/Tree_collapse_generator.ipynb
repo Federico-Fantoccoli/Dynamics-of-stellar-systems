{
 "cells": [
  {
   "cell_type": "code",
   "execution_count": 2,
   "id": "ffd74b51-5600-4629-b0d2-c11ba1bb584d",
   "metadata": {},
   "outputs": [],
   "source": [
    "import numpy as np\n",
    "import scipy.stats as sp\n",
    "import matplotlib.pyplot as plt"
   ]
  },
  {
   "cell_type": "code",
   "execution_count": 9,
   "id": "5129fd4b-1bc1-4b95-b52b-1c6924b7a092",
   "metadata": {},
   "outputs": [],
   "source": [
    "plt.rcParams['figure.figsize'] = [8,8]\n",
    "\n",
    "# Number of particles\n",
    "N = 100\n",
    "\n",
    "# Dimensions\n",
    "n_dim = 3\n",
    "\n",
    "#Initial time\n",
    "t0 = 0 \n",
    "\n",
    "# Masses of each particle\n",
    "M = 1\n",
    "\n",
    "# Radial distribution\n",
    "x_r = np.random.uniform(0, 1, N)\n",
    "\n",
    "# Radius\n",
    "a = 1\n",
    "r_points = a * x_r**(1/3)\n",
    "\n",
    "# Phi distribution\n",
    "phi_points = np.random.uniform(0, 2 * np.pi, N)\n",
    "\n",
    "# Theta distribution\n",
    "x_theta = np.random.uniform(0, 1, N)\n",
    "theta_points = np.arccos(1 - 2*x_theta)\n",
    "\n"
   ]
  },
  {
   "cell_type": "code",
   "execution_count": 10,
   "id": "5934bacf-da32-4367-ae46-562a0333c4a2",
   "metadata": {},
   "outputs": [
    {
     "name": "stdout",
     "output_type": "stream",
     "text": [
      "(100, 3)\n",
      "0.90736144263873\n",
      "0.8830127218888141\n",
      "0.9287827671963558\n"
     ]
    }
   ],
   "source": [
    "def cartesian_coord (r, theta, phi):\n",
    "    \n",
    "    x = r * np.sin(theta) * np.cos(phi)\n",
    "    y = r * np.sin(theta) * np.sin(phi)\n",
    "    z = r * np.cos(theta)\n",
    "    \n",
    "    return np.array([x, y, z])\n",
    "\n",
    "# Cartesian coordinates\n",
    "cartesian = cartesian_coord(r_points, theta_points, phi_points)\n",
    "cartesian = np.transpose(cartesian)\n",
    "print(np.shape(cartesian))\n",
    "\n",
    "print(max(cartesian[:,0]))\n",
    "print(max(cartesian[:,1]))\n",
    "print(max(cartesian[:,2]))"
   ]
  },
  {
   "cell_type": "code",
   "execution_count": 11,
   "id": "d45fd52f-1111-41e6-a15e-e469736c88e0",
   "metadata": {},
   "outputs": [],
   "source": [
    "# Every particle is generated at rest\n",
    "velocity_coord_str = np.full(N, '\\n' + \"0 0 0\")\n",
    "\n",
    "# Converts the list of cartesian coordinates into a list of strings\n",
    "# and append the mass of the particle ad the beginning\n",
    "# and the initial velocity at the end\n",
    "points_masses_str = np.full(N, '\\n' + str(M))\n",
    "points_coord_str = ['\\n' + ' '.join(str(coord) for coord in cartesian[i]) for i in range(N)]\n",
    "\n",
    "# Create or overwrite the input file\n",
    "file_name = \"tree_collapse_in.txt\"\n",
    "\n",
    "input_file = open(file_name, 'w')\n",
    "\n",
    "# Write a file in the proper format for the tree-code:\n",
    "#\n",
    "# N\n",
    "# N_dim\n",
    "# t_0\n",
    "# m_1  \n",
    "# m_2 \n",
    "# ...\n",
    "# m_N\n",
    "# x_1, y_1, z_1 \n",
    "# x_2, y_2, z_2\n",
    "# ...\n",
    "# x_N, y_N, z_N\n",
    "# vx_1, vy_1, vz_1\n",
    "# vx_2, vy_2, vz_2\n",
    "# ...\n",
    "# vx_N, vy_N, vz_N\n",
    "\n",
    "input_file.write(str(N))\n",
    "input_file.write('\\n' + str(n_dim))\n",
    "input_file.write('\\n' + str(t0))\n",
    "input_file.writelines(points_masses_str)\n",
    "input_file.writelines(points_coord_str)\n",
    "input_file.writelines(velocity_coord_str)\n",
    "\n",
    "input_file.close()\n"
   ]
  },
  {
   "cell_type": "code",
   "execution_count": null,
   "id": "cde05500-a139-43b9-abb7-0e9ba03b7832",
   "metadata": {},
   "outputs": [],
   "source": []
  },
  {
   "cell_type": "code",
   "execution_count": null,
   "id": "1106eec1-3a60-43b7-a454-d6730ba07659",
   "metadata": {},
   "outputs": [],
   "source": []
  },
  {
   "cell_type": "code",
   "execution_count": null,
   "id": "dd626e24-37b8-4e21-9942-effd98530890",
   "metadata": {},
   "outputs": [],
   "source": []
  },
  {
   "cell_type": "code",
   "execution_count": null,
   "id": "0a2e7885-7e97-44b2-aadc-f0e1f9e00b9c",
   "metadata": {},
   "outputs": [],
   "source": []
  }
 ],
 "metadata": {
  "kernelspec": {
   "display_name": "Python 3 (ipykernel)",
   "language": "python",
   "name": "python3"
  },
  "language_info": {
   "codemirror_mode": {
    "name": "ipython",
    "version": 3
   },
   "file_extension": ".py",
   "mimetype": "text/x-python",
   "name": "python",
   "nbconvert_exporter": "python",
   "pygments_lexer": "ipython3",
   "version": "3.9.13"
  }
 },
 "nbformat": 4,
 "nbformat_minor": 5
}
